{
  "nbformat": 4,
  "nbformat_minor": 0,
  "metadata": {
    "colab": {
      "provenance": [],
      "collapsed_sections": [
        "92pUvMl3zRQY",
        "eifMU0ybzo5O",
        "OpnRUyw_D59R"
      ]
    },
    "kernelspec": {
      "name": "python3",
      "display_name": "Python 3"
    },
    "language_info": {
      "name": "python"
    }
  },
  "cells": [
    {
      "cell_type": "markdown",
      "source": [
        "# **WHR Dataset**\n",
        "Data source: https://worldhappiness.report/ed/2022/"
      ],
      "metadata": {
        "id": "92pUvMl3zRQY"
      }
    },
    {
      "cell_type": "code",
      "source": [
        "import pandas as pd\n",
        "import numpy as np\n",
        "import matplotlib.pyplot as plt"
      ],
      "metadata": {
        "id": "8Mey2osmqzp3"
      },
      "execution_count": null,
      "outputs": []
    },
    {
      "cell_type": "code",
      "source": [
        "df = pd.read_csv(\"https://raw.githubusercontent.com/LeeHanByeol/COSE362/main/DataForTable2.1.csv\")\n",
        "\n",
        "df"
      ],
      "metadata": {
        "id": "o9jjJRZNkc-m",
        "outputId": "f94f681f-5a11-4926-e6ad-c808d8162ed3",
        "colab": {
          "base_uri": "https://localhost:8080/",
          "height": 424
        }
      },
      "execution_count": null,
      "outputs": [
        {
          "output_type": "execute_result",
          "data": {
            "text/plain": [
              "     Country name  year  Life Ladder  Log GDP per capita  Social support  \\\n",
              "0     Afghanistan  2008     3.723590            7.302574        0.450662   \n",
              "1     Afghanistan  2009     4.401778            7.472446        0.552308   \n",
              "2     Afghanistan  2010     4.758381            7.579183        0.539075   \n",
              "3     Afghanistan  2011     3.831719            7.552006        0.521104   \n",
              "4     Afghanistan  2012     3.782938            7.637953        0.520637   \n",
              "...           ...   ...          ...                 ...             ...   \n",
              "2084     Zimbabwe  2017     3.638300            8.241609        0.754147   \n",
              "2085     Zimbabwe  2018     3.616480            8.274620        0.775388   \n",
              "2086     Zimbabwe  2019     2.693523            8.196998        0.759162   \n",
              "2087     Zimbabwe  2020     3.159802            8.117733        0.717243   \n",
              "2088     Zimbabwe  2021     3.154578            8.153248        0.685151   \n",
              "\n",
              "      Healthy life expectancy at birth  Freedom to make life choices  \\\n",
              "0                            50.500000                      0.718114   \n",
              "1                            50.799999                      0.678896   \n",
              "2                            51.099998                      0.600127   \n",
              "3                            51.400002                      0.495901   \n",
              "4                            51.700001                      0.530935   \n",
              "...                                ...                           ...   \n",
              "2084                         52.150002                      0.752826   \n",
              "2085                         52.625000                      0.762675   \n",
              "2086                         53.099998                      0.631908   \n",
              "2087                         53.575001                      0.643303   \n",
              "2088                         54.049999                      0.667636   \n",
              "\n",
              "      Generosity  Perceptions of corruption  Positive affect  Negative affect  \\\n",
              "0       0.173169                   0.881686         0.414297         0.258195   \n",
              "1       0.195469                   0.850035         0.481421         0.237092   \n",
              "2       0.125859                   0.706766         0.516907         0.275324   \n",
              "3       0.167723                   0.731109         0.479835         0.267175   \n",
              "4       0.241247                   0.775620         0.613513         0.267919   \n",
              "...          ...                        ...              ...              ...   \n",
              "2084   -0.113937                   0.751208         0.733641         0.224051   \n",
              "2085   -0.084747                   0.844209         0.657524         0.211726   \n",
              "2086   -0.081540                   0.830652         0.658434         0.235354   \n",
              "2087   -0.029376                   0.788523         0.660658         0.345736   \n",
              "2088   -0.109439                   0.756945         0.609917         0.241682   \n",
              "\n",
              "      Confidence in national government  \n",
              "0                              0.612072  \n",
              "1                              0.611545  \n",
              "2                              0.299357  \n",
              "3                              0.307386  \n",
              "4                              0.435440  \n",
              "...                                 ...  \n",
              "2084                           0.682647  \n",
              "2085                           0.550508  \n",
              "2086                           0.456455  \n",
              "2087                           0.577302  \n",
              "2088                           0.665703  \n",
              "\n",
              "[2089 rows x 12 columns]"
            ],
            "text/html": [
              "\n",
              "  <div id=\"df-83347875-0bb0-48b8-aa83-58a9a4912c48\">\n",
              "    <div class=\"colab-df-container\">\n",
              "      <div>\n",
              "<style scoped>\n",
              "    .dataframe tbody tr th:only-of-type {\n",
              "        vertical-align: middle;\n",
              "    }\n",
              "\n",
              "    .dataframe tbody tr th {\n",
              "        vertical-align: top;\n",
              "    }\n",
              "\n",
              "    .dataframe thead th {\n",
              "        text-align: right;\n",
              "    }\n",
              "</style>\n",
              "<table border=\"1\" class=\"dataframe\">\n",
              "  <thead>\n",
              "    <tr style=\"text-align: right;\">\n",
              "      <th></th>\n",
              "      <th>Country name</th>\n",
              "      <th>year</th>\n",
              "      <th>Life Ladder</th>\n",
              "      <th>Log GDP per capita</th>\n",
              "      <th>Social support</th>\n",
              "      <th>Healthy life expectancy at birth</th>\n",
              "      <th>Freedom to make life choices</th>\n",
              "      <th>Generosity</th>\n",
              "      <th>Perceptions of corruption</th>\n",
              "      <th>Positive affect</th>\n",
              "      <th>Negative affect</th>\n",
              "      <th>Confidence in national government</th>\n",
              "    </tr>\n",
              "  </thead>\n",
              "  <tbody>\n",
              "    <tr>\n",
              "      <th>0</th>\n",
              "      <td>Afghanistan</td>\n",
              "      <td>2008</td>\n",
              "      <td>3.723590</td>\n",
              "      <td>7.302574</td>\n",
              "      <td>0.450662</td>\n",
              "      <td>50.500000</td>\n",
              "      <td>0.718114</td>\n",
              "      <td>0.173169</td>\n",
              "      <td>0.881686</td>\n",
              "      <td>0.414297</td>\n",
              "      <td>0.258195</td>\n",
              "      <td>0.612072</td>\n",
              "    </tr>\n",
              "    <tr>\n",
              "      <th>1</th>\n",
              "      <td>Afghanistan</td>\n",
              "      <td>2009</td>\n",
              "      <td>4.401778</td>\n",
              "      <td>7.472446</td>\n",
              "      <td>0.552308</td>\n",
              "      <td>50.799999</td>\n",
              "      <td>0.678896</td>\n",
              "      <td>0.195469</td>\n",
              "      <td>0.850035</td>\n",
              "      <td>0.481421</td>\n",
              "      <td>0.237092</td>\n",
              "      <td>0.611545</td>\n",
              "    </tr>\n",
              "    <tr>\n",
              "      <th>2</th>\n",
              "      <td>Afghanistan</td>\n",
              "      <td>2010</td>\n",
              "      <td>4.758381</td>\n",
              "      <td>7.579183</td>\n",
              "      <td>0.539075</td>\n",
              "      <td>51.099998</td>\n",
              "      <td>0.600127</td>\n",
              "      <td>0.125859</td>\n",
              "      <td>0.706766</td>\n",
              "      <td>0.516907</td>\n",
              "      <td>0.275324</td>\n",
              "      <td>0.299357</td>\n",
              "    </tr>\n",
              "    <tr>\n",
              "      <th>3</th>\n",
              "      <td>Afghanistan</td>\n",
              "      <td>2011</td>\n",
              "      <td>3.831719</td>\n",
              "      <td>7.552006</td>\n",
              "      <td>0.521104</td>\n",
              "      <td>51.400002</td>\n",
              "      <td>0.495901</td>\n",
              "      <td>0.167723</td>\n",
              "      <td>0.731109</td>\n",
              "      <td>0.479835</td>\n",
              "      <td>0.267175</td>\n",
              "      <td>0.307386</td>\n",
              "    </tr>\n",
              "    <tr>\n",
              "      <th>4</th>\n",
              "      <td>Afghanistan</td>\n",
              "      <td>2012</td>\n",
              "      <td>3.782938</td>\n",
              "      <td>7.637953</td>\n",
              "      <td>0.520637</td>\n",
              "      <td>51.700001</td>\n",
              "      <td>0.530935</td>\n",
              "      <td>0.241247</td>\n",
              "      <td>0.775620</td>\n",
              "      <td>0.613513</td>\n",
              "      <td>0.267919</td>\n",
              "      <td>0.435440</td>\n",
              "    </tr>\n",
              "    <tr>\n",
              "      <th>...</th>\n",
              "      <td>...</td>\n",
              "      <td>...</td>\n",
              "      <td>...</td>\n",
              "      <td>...</td>\n",
              "      <td>...</td>\n",
              "      <td>...</td>\n",
              "      <td>...</td>\n",
              "      <td>...</td>\n",
              "      <td>...</td>\n",
              "      <td>...</td>\n",
              "      <td>...</td>\n",
              "      <td>...</td>\n",
              "    </tr>\n",
              "    <tr>\n",
              "      <th>2084</th>\n",
              "      <td>Zimbabwe</td>\n",
              "      <td>2017</td>\n",
              "      <td>3.638300</td>\n",
              "      <td>8.241609</td>\n",
              "      <td>0.754147</td>\n",
              "      <td>52.150002</td>\n",
              "      <td>0.752826</td>\n",
              "      <td>-0.113937</td>\n",
              "      <td>0.751208</td>\n",
              "      <td>0.733641</td>\n",
              "      <td>0.224051</td>\n",
              "      <td>0.682647</td>\n",
              "    </tr>\n",
              "    <tr>\n",
              "      <th>2085</th>\n",
              "      <td>Zimbabwe</td>\n",
              "      <td>2018</td>\n",
              "      <td>3.616480</td>\n",
              "      <td>8.274620</td>\n",
              "      <td>0.775388</td>\n",
              "      <td>52.625000</td>\n",
              "      <td>0.762675</td>\n",
              "      <td>-0.084747</td>\n",
              "      <td>0.844209</td>\n",
              "      <td>0.657524</td>\n",
              "      <td>0.211726</td>\n",
              "      <td>0.550508</td>\n",
              "    </tr>\n",
              "    <tr>\n",
              "      <th>2086</th>\n",
              "      <td>Zimbabwe</td>\n",
              "      <td>2019</td>\n",
              "      <td>2.693523</td>\n",
              "      <td>8.196998</td>\n",
              "      <td>0.759162</td>\n",
              "      <td>53.099998</td>\n",
              "      <td>0.631908</td>\n",
              "      <td>-0.081540</td>\n",
              "      <td>0.830652</td>\n",
              "      <td>0.658434</td>\n",
              "      <td>0.235354</td>\n",
              "      <td>0.456455</td>\n",
              "    </tr>\n",
              "    <tr>\n",
              "      <th>2087</th>\n",
              "      <td>Zimbabwe</td>\n",
              "      <td>2020</td>\n",
              "      <td>3.159802</td>\n",
              "      <td>8.117733</td>\n",
              "      <td>0.717243</td>\n",
              "      <td>53.575001</td>\n",
              "      <td>0.643303</td>\n",
              "      <td>-0.029376</td>\n",
              "      <td>0.788523</td>\n",
              "      <td>0.660658</td>\n",
              "      <td>0.345736</td>\n",
              "      <td>0.577302</td>\n",
              "    </tr>\n",
              "    <tr>\n",
              "      <th>2088</th>\n",
              "      <td>Zimbabwe</td>\n",
              "      <td>2021</td>\n",
              "      <td>3.154578</td>\n",
              "      <td>8.153248</td>\n",
              "      <td>0.685151</td>\n",
              "      <td>54.049999</td>\n",
              "      <td>0.667636</td>\n",
              "      <td>-0.109439</td>\n",
              "      <td>0.756945</td>\n",
              "      <td>0.609917</td>\n",
              "      <td>0.241682</td>\n",
              "      <td>0.665703</td>\n",
              "    </tr>\n",
              "  </tbody>\n",
              "</table>\n",
              "<p>2089 rows × 12 columns</p>\n",
              "</div>\n",
              "      <button class=\"colab-df-convert\" onclick=\"convertToInteractive('df-83347875-0bb0-48b8-aa83-58a9a4912c48')\"\n",
              "              title=\"Convert this dataframe to an interactive table.\"\n",
              "              style=\"display:none;\">\n",
              "        \n",
              "  <svg xmlns=\"http://www.w3.org/2000/svg\" height=\"24px\"viewBox=\"0 0 24 24\"\n",
              "       width=\"24px\">\n",
              "    <path d=\"M0 0h24v24H0V0z\" fill=\"none\"/>\n",
              "    <path d=\"M18.56 5.44l.94 2.06.94-2.06 2.06-.94-2.06-.94-.94-2.06-.94 2.06-2.06.94zm-11 1L8.5 8.5l.94-2.06 2.06-.94-2.06-.94L8.5 2.5l-.94 2.06-2.06.94zm10 10l.94 2.06.94-2.06 2.06-.94-2.06-.94-.94-2.06-.94 2.06-2.06.94z\"/><path d=\"M17.41 7.96l-1.37-1.37c-.4-.4-.92-.59-1.43-.59-.52 0-1.04.2-1.43.59L10.3 9.45l-7.72 7.72c-.78.78-.78 2.05 0 2.83L4 21.41c.39.39.9.59 1.41.59.51 0 1.02-.2 1.41-.59l7.78-7.78 2.81-2.81c.8-.78.8-2.07 0-2.86zM5.41 20L4 18.59l7.72-7.72 1.47 1.35L5.41 20z\"/>\n",
              "  </svg>\n",
              "      </button>\n",
              "      \n",
              "  <style>\n",
              "    .colab-df-container {\n",
              "      display:flex;\n",
              "      flex-wrap:wrap;\n",
              "      gap: 12px;\n",
              "    }\n",
              "\n",
              "    .colab-df-convert {\n",
              "      background-color: #E8F0FE;\n",
              "      border: none;\n",
              "      border-radius: 50%;\n",
              "      cursor: pointer;\n",
              "      display: none;\n",
              "      fill: #1967D2;\n",
              "      height: 32px;\n",
              "      padding: 0 0 0 0;\n",
              "      width: 32px;\n",
              "    }\n",
              "\n",
              "    .colab-df-convert:hover {\n",
              "      background-color: #E2EBFA;\n",
              "      box-shadow: 0px 1px 2px rgba(60, 64, 67, 0.3), 0px 1px 3px 1px rgba(60, 64, 67, 0.15);\n",
              "      fill: #174EA6;\n",
              "    }\n",
              "\n",
              "    [theme=dark] .colab-df-convert {\n",
              "      background-color: #3B4455;\n",
              "      fill: #D2E3FC;\n",
              "    }\n",
              "\n",
              "    [theme=dark] .colab-df-convert:hover {\n",
              "      background-color: #434B5C;\n",
              "      box-shadow: 0px 1px 3px 1px rgba(0, 0, 0, 0.15);\n",
              "      filter: drop-shadow(0px 1px 2px rgba(0, 0, 0, 0.3));\n",
              "      fill: #FFFFFF;\n",
              "    }\n",
              "  </style>\n",
              "\n",
              "      <script>\n",
              "        const buttonEl =\n",
              "          document.querySelector('#df-83347875-0bb0-48b8-aa83-58a9a4912c48 button.colab-df-convert');\n",
              "        buttonEl.style.display =\n",
              "          google.colab.kernel.accessAllowed ? 'block' : 'none';\n",
              "\n",
              "        async function convertToInteractive(key) {\n",
              "          const element = document.querySelector('#df-83347875-0bb0-48b8-aa83-58a9a4912c48');\n",
              "          const dataTable =\n",
              "            await google.colab.kernel.invokeFunction('convertToInteractive',\n",
              "                                                     [key], {});\n",
              "          if (!dataTable) return;\n",
              "\n",
              "          const docLinkHtml = 'Like what you see? Visit the ' +\n",
              "            '<a target=\"_blank\" href=https://colab.research.google.com/notebooks/data_table.ipynb>data table notebook</a>'\n",
              "            + ' to learn more about interactive tables.';\n",
              "          element.innerHTML = '';\n",
              "          dataTable['output_type'] = 'display_data';\n",
              "          await google.colab.output.renderOutput(dataTable, element);\n",
              "          const docLink = document.createElement('div');\n",
              "          docLink.innerHTML = docLinkHtml;\n",
              "          element.appendChild(docLink);\n",
              "        }\n",
              "      </script>\n",
              "    </div>\n",
              "  </div>\n",
              "  "
            ]
          },
          "metadata": {},
          "execution_count": 2
        }
      ]
    },
    {
      "cell_type": "code",
      "source": [
        "# Missing value interpolation: mean value\n",
        "df.fillna(df.mean(), inplace=True)"
      ],
      "metadata": {
        "id": "4WgKWeKHlNEb",
        "colab": {
          "base_uri": "https://localhost:8080/"
        },
        "outputId": "b7ed1b62-2d27-49ec-84bf-ce062106d955"
      },
      "execution_count": null,
      "outputs": [
        {
          "output_type": "stream",
          "name": "stderr",
          "text": [
            "<ipython-input-3-7628ff283c89>:2: FutureWarning: Dropping of nuisance columns in DataFrame reductions (with 'numeric_only=None') is deprecated; in a future version this will raise TypeError.  Select only valid columns before calling the reduction.\n",
            "  df.fillna(df.mean(), inplace=True)\n"
          ]
        }
      ]
    },
    {
      "cell_type": "markdown",
      "source": [
        "# **1. Regression: Whole data**\n",
        "\n"
      ],
      "metadata": {
        "id": "eifMU0ybzo5O"
      }
    },
    {
      "cell_type": "code",
      "source": [
        "# Train : Validation : Test = 6 : 2 : 2\n",
        "df = df.sample(frac=1).reset_index(drop=True)\n",
        "\n",
        "df_train = df.iloc[:1253]     # 1253 train data\n",
        "df_val   = df.iloc[1253:1671] # 418  validation data\n",
        "df_test  = df.iloc[1671:]     # 418  test data"
      ],
      "metadata": {
        "id": "otdnZ5VJvsgH"
      },
      "execution_count": null,
      "outputs": []
    },
    {
      "cell_type": "code",
      "source": [
        "# Training: Linear regression, Gradient descent\n",
        "\n",
        "# parameters\n",
        "Nt = 1253   # Number of training data\n",
        "Nv = 418    # Number of validation data\n",
        "d = 9       # Number of features\n",
        "eta = 0.02  # learning rate\n",
        "epo = 700  # training epochs"
      ],
      "metadata": {
        "id": "rCvtTrywzhvT"
      },
      "execution_count": null,
      "outputs": []
    },
    {
      "cell_type": "code",
      "source": [
        "# preprocess\n",
        "train = df_train.iloc[:, 2:] # 필요없는 label 데이터 제거\n",
        "train = (train - train.mean()) / train.std() # 데이터 전처리: 정규화\n",
        "\n",
        "x_t = np.c_[np.ones((Nt, 1)), train.iloc[:, 1:].to_numpy()] # w_0를 위해 input에 1을 추가\n",
        "r_t = train.iloc[:, 0].to_numpy()[np.newaxis].T # target output vector(life ladder)\n",
        "\n",
        "valid = df_val.iloc[:, 2:]\n",
        "valid = (valid - valid.mean()) / valid.std()\n",
        "\n",
        "x_v = np.c_[np.ones((Nv, 1)), valid.iloc[:, 1:].to_numpy()]\n",
        "r_v = valid.iloc[:, 0].to_numpy()[np.newaxis].T\n",
        "\n",
        "w = np.random.randn(d + 1, 1) # weight vector"
      ],
      "metadata": {
        "id": "Tb8sWoIuMk0G"
      },
      "execution_count": null,
      "outputs": []
    },
    {
      "cell_type": "code",
      "source": [
        "# train\n",
        "train_loss = []\n",
        "val_loss = []\n",
        "\n",
        "for epoch in range(epo):\n",
        "  #train\n",
        "  E = x_t.dot(w) - r_t  # y - r\n",
        "  grad = (2 / Nt) * x_t.T.dot(E)  # calculating gradient vector, d/dW(XW - R)^2 = 2 * X^T(XW - R)\n",
        "  w = w - (eta * grad)  # updating weight vector\n",
        "\n",
        "  E = x_t.dot(w) - r_t        \n",
        "  loss = np.sum(np.power(E, 2)) / Nt # MSE = 1 / N * sum[(y - r)^2]\n",
        "  train_loss.append(loss)\n",
        "\n",
        "  #validate\n",
        "  E = x_v.dot(w) - r_v\n",
        "  loss = np.sum(np.power(E, 2)) / Nv\n",
        "  val_loss.append(loss)\n",
        "\n",
        "print(f'Train loss(MSE): {train_loss[-1]:.4}\\nVal loss(MSE): {val_loss[-1]:.4}')\n",
        "\n",
        "plt.title('Loss: MSE')\n",
        "plt.plot(train_loss, label='training loss')\n",
        "plt.plot(val_loss, label='val_loss')\n",
        "plt.legend()\n",
        "plt.show()\n"
      ],
      "metadata": {
        "colab": {
          "base_uri": "https://localhost:8080/",
          "height": 318
        },
        "id": "mvTJUfYQFkIl",
        "outputId": "20e7c2d9-90f8-4c95-c7c7-fce134684256"
      },
      "execution_count": null,
      "outputs": [
        {
          "output_type": "stream",
          "name": "stdout",
          "text": [
            "Train loss(MSE): 0.2335\n",
            "Val loss(MSE): 0.2167\n"
          ]
        },
        {
          "output_type": "display_data",
          "data": {
            "text/plain": [
              "<Figure size 432x288 with 1 Axes>"
            ],
            "image/png": "[encoded data removed]"
          },
          "metadata": {
            "needs_background": "light"
          }
        }
      ]
    },
    {
      "cell_type": "code",
      "source": [
        "#training error와 validation error 사이의 gap\n",
        "\n",
        "gap = []\n",
        "for i in range(epo):\n",
        "  gap.append(train_loss[i]-val_loss[i])\n",
        "\n",
        "plt.plot(gap)\n",
        "plt.show()\n"
      ],
      "metadata": {
        "colab": {
          "base_uri": "https://localhost:8080/",
          "height": 265
        },
        "id": "9v65Verg0f54",
        "outputId": "093320c9-c395-400f-e396-ba78ca14e66a"
      },
      "execution_count": null,
      "outputs": [
        {
          "output_type": "display_data",
          "data": {
            "text/plain": [
              "<Figure size 432x288 with 1 Axes>"
            ],
            "image/png": "[encoded data removed]"
          },
          "metadata": {
            "needs_background": "light"
          }
        }
      ]
    },
    {
      "cell_type": "code",
      "source": [
        "w # [w_0, w_1, ... , w_9]^T"
      ],
      "metadata": {
        "colab": {
          "base_uri": "https://localhost:8080/"
        },
        "id": "2eUWJAlFPczF",
        "outputId": "776afa3b-f44b-4149-a276-a267bd978cfd"
      },
      "execution_count": null,
      "outputs": [
        {
          "output_type": "execute_result",
          "data": {
            "text/plain": [
              "array([[-4.49472503e-13],\n",
              "       [ 3.81650654e-01],\n",
              "       [ 1.79933823e-01],\n",
              "       [ 1.45786854e-01],\n",
              "       [ 1.07014090e-01],\n",
              "       [ 7.48755789e-02],\n",
              "       [-1.39501507e-01],\n",
              "       [ 1.90954228e-01],\n",
              "       [-2.16806183e-02],\n",
              "       [-9.09588198e-02]])"
            ]
          },
          "metadata": {},
          "execution_count": 83
        }
      ]
    },
    {
      "cell_type": "code",
      "source": [
        "plt.plot([f'w{i}' for i in range(10)], w, 'bo')\n",
        "plt.axhline(0, linestyle='--', linewidth=1, c='red')\n",
        "plt.grid()\n",
        "\n",
        "plt.show()"
      ],
      "metadata": {
        "colab": {
          "base_uri": "https://localhost:8080/",
          "height": 266
        },
        "id": "AXqBilRuXuJs",
        "outputId": "8108e8bc-f7c5-4bc2-bfc0-3ed6c603b825"
      },
      "execution_count": null,
      "outputs": [
        {
          "output_type": "display_data",
          "data": {
            "text/plain": [
              "<Figure size 432x288 with 1 Axes>"
            ],
            "image/png": "[encoded data removed]"
          },
          "metadata": {
            "needs_background": "light"
          }
        }
      ]
    },
    {
      "cell_type": "code",
      "source": [
        "# test\n",
        "\n",
        "test = df_test.iloc[:, 2:]\n",
        "test = (test - test.mean()) / test.std()\n",
        "\n",
        "x_s = np.c_[np.ones((Nv, 1)), test.iloc[:, 1:].to_numpy()]\n",
        "r_s = test.iloc[:, 0].to_numpy()[np.newaxis].T"
      ],
      "metadata": {
        "id": "z81La2R1Z9s4"
      },
      "execution_count": null,
      "outputs": []
    },
    {
      "cell_type": "code",
      "source": [
        "#x축: prediction(y)\n",
        "#y축: truth(r_s)\n",
        "\n",
        "y = x_s.dot(w)\n",
        "\n",
        "plt.scatter(y, r_s, s=10)\n",
        "line = np.linspace(-3, 2, 10)\n",
        "plt.plot(line, line+0, c='red')\n",
        "plt.grid()\n",
        "plt.show()"
      ],
      "metadata": {
        "colab": {
          "base_uri": "https://localhost:8080/",
          "height": 265
        },
        "id": "hCFMgp4UzGhP",
        "outputId": "4668405d-563e-48d1-c3fc-2f31b63068fd"
      },
      "execution_count": null,
      "outputs": [
        {
          "output_type": "display_data",
          "data": {
            "text/plain": [
              "<Figure size 432x288 with 1 Axes>"
            ],
            "image/png": "[encoded data removed]"
          },
          "metadata": {
            "needs_background": "light"
          }
        }
      ]
    },
    {
      "cell_type": "code",
      "source": [
        "E = x_s.dot(w) - r_s\n",
        "loss = np.sum(np.power(E, 2)) / Nv\n",
        "\n",
        "print(f'Test loss(MSE): {loss:.4}')"
      ],
      "metadata": {
        "colab": {
          "base_uri": "https://localhost:8080/"
        },
        "id": "CFxD6kkUaRZF",
        "outputId": "f8f2bac8-317d-47e8-9e52-4ce25a917d28"
      },
      "execution_count": null,
      "outputs": [
        {
          "output_type": "stream",
          "name": "stdout",
          "text": [
            "Test loss(MSE): 0.219\n"
          ]
        }
      ]
    },
    {
      "cell_type": "markdown",
      "source": [
        "# **2. Regression: Whole data(K-fold Validation)**"
      ],
      "metadata": {
        "id": "OpnRUyw_D59R"
      }
    },
    {
      "cell_type": "code",
      "source": [
        "# Train : Test = 8 : 2\n",
        "df = df.sample(frac=1).reset_index(drop=True)\n",
        "\n",
        "#K-fold cross validation\n",
        "df_train = df.iloc[:1672]\n",
        "df_test = df.iloc[1672:]  #417 test data\n",
        "k = 4\n",
        "\n",
        "N_fold = int(1672 / k)   #Number of 1 fold data"
      ],
      "metadata": {
        "id": "HPlKFn1MEBKz"
      },
      "execution_count": null,
      "outputs": []
    },
    {
      "cell_type": "code",
      "source": [
        "# Training: Linear regression, Gradient descent\n",
        "\n",
        "# parameters\n",
        "N_test = 417\n",
        "d = 9       # Number of features\n",
        "eta = 0.02  # learning rate\n",
        "epo = 700  # training epochs"
      ],
      "metadata": {
        "id": "7BGIZVqPELAH"
      },
      "execution_count": null,
      "outputs": []
    },
    {
      "cell_type": "code",
      "source": [
        "# preprocess\n",
        "train = df_train.iloc[:, 2:] # 필요없는 label 데이터 제거\n",
        "\n",
        "fold = []              #k-fold로 train data 나눔\n",
        "for i in range (k):\n",
        "  s = i * N_fold\n",
        "  e = (i+1) * N_fold\n",
        "  fold.append(train.iloc[s:e])\n",
        "\n",
        "fold_normalized = []    #fold data를 정규화\n",
        "for i in range(k) :\n",
        "  fold_normalized.append((fold[i] - fold[i].mean())/fold[i].std())\n",
        "\n",
        "\n",
        "x_fold = []     \n",
        "r_fold = []\n",
        "\n",
        "for i in range(k):\n",
        "  x = np.c_[np.ones((N_fold, 1)), fold_normalized[i].iloc[:, 1:].to_numpy()]\n",
        "  r = fold_normalized[i].iloc[:, 0].to_numpy()[np.newaxis].T\n",
        "  x_fold.append(x)\n",
        "  r_fold.append(r)\n",
        "\n",
        "print(\"the number of fold: \", len(x_fold))\n",
        "print(\"shape of x in fold_n\", x_fold[i].shape)\n",
        "print(\"shape of r in fold_n\", r_fold[i].shape)\n",
        "\n",
        "w = np.random.randn(d + 1, 1) # weight vector"
      ],
      "metadata": {
        "colab": {
          "base_uri": "https://localhost:8080/"
        },
        "id": "NMp7-5MlEL3M",
        "outputId": "b8187b5a-7a45-4dfd-8ad8-9a2a37b1a8e9"
      },
      "execution_count": null,
      "outputs": [
        {
          "output_type": "stream",
          "name": "stdout",
          "text": [
            "the number of fold:  4\n",
            "shape of x in fold_n (418, 10)\n",
            "shape of r in fold_n (418, 1)\n"
          ]
        }
      ]
    },
    {
      "cell_type": "code",
      "source": [
        "from numpy.matrixlib.defmatrix import concatenate\n",
        "# train\n",
        "train_loss = []\n",
        "val_loss = []\n",
        "\n",
        "Nt = N_fold * (k-1)\n",
        "\n",
        "for epoch in range(epo):\n",
        "\n",
        "  train_E = 0\n",
        "  val_E = 0\n",
        "  for i in range(k):\n",
        "    \n",
        "    #training data 만들기 (i번째 fold를 뺀 나머지 fold를 병합)\n",
        "    if i == 0 : \n",
        "      x_t = x_fold[1]\n",
        "      r_t = r_fold[1]\n",
        "      for j in range(2, k):\n",
        "        x_t = np.concatenate((x_t, x_fold[j]), axis=0)\n",
        "        r_t = np.concatenate((r_t, r_fold[j]), axis=0)\n",
        "    else: \n",
        "      x_t = x_fold[0]\n",
        "      r_t = r_fold[0]\n",
        "      for j in range(1, k):\n",
        "        if i != j:\n",
        "          x_t = np.concatenate((x_t, x_fold[j]), axis=0)\n",
        "          r_t = np.concatenate((r_t, r_fold[j]), axis=0)\n",
        "\n",
        "    #train\n",
        "    E = x_t.dot(w) - r_t\n",
        "    grad = (2 / Nt) * x_t.T.dot(E)\n",
        "    w = w - (eta * grad)\n",
        "    \n",
        "    train_E += x_t.dot(w) - r_t\n",
        "\n",
        "    #validate\n",
        "    val_E += x_fold[i].dot(w) - r_fold[i]\n",
        "\n",
        "  train_E /= k\n",
        "  val_E /= k\n",
        "\n",
        "  loss = np.sum(np.power(train_E, 2)) / Nt\n",
        "  train_loss.append(loss)\n",
        "\n",
        "  loss = np.sum(np.power(val_E, 2)) /N_fold\n",
        "  val_loss.append(loss)\n",
        "\n",
        "\n",
        "print(f'Train loss(MSE): {train_loss[-1]:.4}\\nVal loss(MSE): {val_loss[-1]:.4}')\n",
        "\n",
        "plt.title('Loss: MSE')\n",
        "plt.plot(train_loss, label='training loss')\n",
        "plt.plot(val_loss, label='val_loss')\n",
        "plt.legend()\n",
        "plt.show()"
      ],
      "metadata": {
        "colab": {
          "base_uri": "https://localhost:8080/",
          "height": 318
        },
        "id": "XTOi6TKeEOGf",
        "outputId": "a315d89d-8a47-4451-f2ef-cbcf99b35be4"
      },
      "execution_count": null,
      "outputs": [
        {
          "output_type": "stream",
          "name": "stdout",
          "text": [
            "Train loss(MSE): 0.1241\n",
            "Val loss(MSE): 0.05413\n"
          ]
        },
        {
          "output_type": "display_data",
          "data": {
            "text/plain": [
              "<Figure size 432x288 with 1 Axes>"
            ],
            "image/png": "[encoded data removed]"
          },
          "metadata": {
            "needs_background": "light"
          }
        }
      ]
    },
    {
      "cell_type": "code",
      "source": [
        "gap = []\n",
        "for i in range(epo):\n",
        "  gap.append(train_loss[i]-val_loss[i])\n",
        "\n",
        "plt.plot(gap)\n",
        "plt.show()"
      ],
      "metadata": {
        "colab": {
          "base_uri": "https://localhost:8080/",
          "height": 265
        },
        "id": "X_efZg0oEQDx",
        "outputId": "280ad548-3eff-4575-e320-71e7eadad95d"
      },
      "execution_count": null,
      "outputs": [
        {
          "output_type": "display_data",
          "data": {
            "text/plain": [
              "<Figure size 432x288 with 1 Axes>"
            ],
            "image/png": "[encoded data removed]"
          },
          "metadata": {
            "needs_background": "light"
          }
        }
      ]
    },
    {
      "cell_type": "code",
      "source": [
        "w # [w_0, w_1, ... , w_9]^T"
      ],
      "metadata": {
        "colab": {
          "base_uri": "https://localhost:8080/"
        },
        "id": "TTLnjXzuERki",
        "outputId": "13256753-4c12-40db-dc7a-759f38c952b9"
      },
      "execution_count": null,
      "outputs": [
        {
          "output_type": "execute_result",
          "data": {
            "text/plain": [
              "array([[ 2.58166131e-16],\n",
              "       [ 3.86140573e-01],\n",
              "       [ 1.86008987e-01],\n",
              "       [ 1.58723124e-01],\n",
              "       [ 8.37820913e-02],\n",
              "       [ 7.52336393e-02],\n",
              "       [-1.27281490e-01],\n",
              "       [ 2.08720344e-01],\n",
              "       [-1.46591918e-02],\n",
              "       [-9.10218027e-02]])"
            ]
          },
          "metadata": {},
          "execution_count": 93
        }
      ]
    },
    {
      "cell_type": "code",
      "source": [
        "plt.plot([f'w{i}' for i in range(10)], w, 'bo')\n",
        "plt.axhline(0, linestyle='--', linewidth=1, c='red')\n",
        "plt.grid()\n",
        "\n",
        "plt.show()"
      ],
      "metadata": {
        "colab": {
          "base_uri": "https://localhost:8080/",
          "height": 265
        },
        "id": "OIt631BKES7k",
        "outputId": "5b402144-0ca3-45cf-d5cf-e178eded34bc"
      },
      "execution_count": null,
      "outputs": [
        {
          "output_type": "display_data",
          "data": {
            "text/plain": [
              "<Figure size 432x288 with 1 Axes>"
            ],
            "image/png": "[encoded data removed]"
          },
          "metadata": {
            "needs_background": "light"
          }
        }
      ]
    },
    {
      "cell_type": "code",
      "source": [
        "# test\n",
        "\n",
        "test = df_test.iloc[:, 2:]\n",
        "test = (test - test.mean()) / test.std()\n",
        "\n",
        "x_s = np.c_[np.ones((N_test, 1)), test.iloc[:, 1:].to_numpy()]\n",
        "r_s = test.iloc[:, 0].to_numpy()[np.newaxis].T"
      ],
      "metadata": {
        "id": "fAtHvj2fETxa"
      },
      "execution_count": null,
      "outputs": []
    },
    {
      "cell_type": "code",
      "source": [
        "y = x_s.dot(w)\n",
        "\n",
        "plt.scatter(y, r_s, s=10)\n",
        "line = np.linspace(-3, 2, 10)\n",
        "plt.plot(line, line+0, c='red')\n",
        "plt.grid()\n",
        "plt.show()"
      ],
      "metadata": {
        "colab": {
          "base_uri": "https://localhost:8080/",
          "height": 265
        },
        "id": "2ikLXjKAEVJP",
        "outputId": "5676826d-3d09-4b89-ec90-b436573f2378"
      },
      "execution_count": null,
      "outputs": [
        {
          "output_type": "display_data",
          "data": {
            "text/plain": [
              "<Figure size 432x288 with 1 Axes>"
            ],
            "image/png": "[encoded data removed]"
          },
          "metadata": {
            "needs_background": "light"
          }
        }
      ]
    },
    {
      "cell_type": "code",
      "source": [
        "E = x_s.dot(w) - r_s\n",
        "loss = np.sum(np.power(E, 2)) / N_test\n",
        "\n",
        "print(f'Test loss(MSE): {loss:.4}')"
      ],
      "metadata": {
        "colab": {
          "base_uri": "https://localhost:8080/"
        },
        "id": "BwyfB13lEWXX",
        "outputId": "e2d5458f-9669-4bcc-fc45-e6a3ed3a58fb"
      },
      "execution_count": null,
      "outputs": [
        {
          "output_type": "stream",
          "name": "stdout",
          "text": [
            "Test loss(MSE): 0.2585\n"
          ]
        }
      ]
    },
    {
      "cell_type": "markdown",
      "source": [
        "# **3. Regression: Continent**"
      ],
      "metadata": {
        "id": "Y--GoznJ25r3"
      }
    },
    {
      "cell_type": "code",
      "source": [
        "df['Country name'].unique()"
      ],
      "metadata": {
        "id": "wZW_MThp26qo",
        "colab": {
          "base_uri": "https://localhost:8080/"
        },
        "outputId": "3d8c2c9a-311f-4f2f-93d3-6cb31e7e73e9"
      },
      "execution_count": null,
      "outputs": [
        {
          "output_type": "execute_result",
          "data": {
            "text/plain": [
              "array(['Ukraine', 'Bangladesh', 'Malta', 'Sweden', 'South Africa',\n",
              "       'Chile', 'Finland', 'United Kingdom', 'Moldova', 'Saudi Arabia',\n",
              "       'Tanzania', 'Singapore', 'Japan', 'Serbia', 'Honduras', 'Canada',\n",
              "       'France', 'Turkey', 'Chad', 'Albania', 'Lithuania', 'Afghanistan',\n",
              "       'Bolivia', 'Zambia', 'North Macedonia', 'Israel', 'United States',\n",
              "       'Guinea', 'Germany', 'Liberia', 'Philippines', 'Spain',\n",
              "       'Costa Rica', 'Nicaragua', 'Bahrain', 'Togo', 'Pakistan',\n",
              "       'Mozambique', 'Indonesia', 'Egypt', 'Kenya', 'Lebanon', 'Mongolia',\n",
              "       'Uruguay', 'Peru', 'Mauritania', 'Ivory Coast', 'Kyrgyzstan',\n",
              "       'Belgium', 'Sierra Leone', 'Myanmar', 'Iceland', 'Somalia',\n",
              "       'Ghana', 'Morocco', 'Ireland', 'Cameroon', 'Sri Lanka', 'Georgia',\n",
              "       'Dominican Republic', 'Bulgaria', 'Norway',\n",
              "       'Bosnia and Herzegovina', 'Venezuela', 'United Arab Emirates',\n",
              "       'Azerbaijan', 'Madagascar', 'Romania', 'Tunisia', 'Mauritius',\n",
              "       'Comoros', 'Botswana', 'Cambodia', 'Laos', 'Czechia', 'Malaysia',\n",
              "       'New Zealand', 'Yemen', 'Italy', 'Vietnam', 'Nigeria',\n",
              "       'Congo (Brazzaville)', 'Slovakia', 'Mexico', 'Hungary', 'Namibia',\n",
              "       'Libya', 'Suriname', 'Guatemala', 'Armenia',\n",
              "       'Palestinian Territories', 'South Korea', 'Uganda', 'Burkina Faso',\n",
              "       'Croatia', 'Russia', 'Ethiopia', 'Paraguay', 'Jordan', 'Malawi',\n",
              "       'Estonia', 'Poland', 'Montenegro', 'Lesotho', 'Senegal', 'Mali',\n",
              "       'China', 'Syria', 'Sudan', 'Colombia', 'Zimbabwe', 'Luxembourg',\n",
              "       'Rwanda', 'Cyprus', 'Argentina', 'India', 'Greece', 'Benin',\n",
              "       'Netherlands', 'Turkmenistan', 'Portugal', 'Belarus', 'Austria',\n",
              "       'Haiti', 'Kazakhstan', 'Uzbekistan', 'Panama', 'Switzerland',\n",
              "       'Tajikistan', 'Ecuador', 'Latvia', 'Thailand', 'Australia',\n",
              "       'Taiwan Province of China', 'Djibouti', 'Bhutan', 'Gabon',\n",
              "       'Denmark', 'Kosovo', 'El Salvador', 'Brazil', 'Slovenia',\n",
              "       'Algeria', 'Nepal', 'Burundi', 'Niger', 'Iran', 'Qatar', 'Jamaica',\n",
              "       'South Sudan', 'Congo (Kinshasa)', 'Hong Kong S.A.R. of China',\n",
              "       'Kuwait', 'Iraq', 'Gambia', 'Trinidad and Tobago',\n",
              "       'Somaliland region', 'North Cyprus', 'Angola',\n",
              "       'Central African Republic', 'Guyana', 'Belize', 'Cuba', 'Oman',\n",
              "       'Eswatini', 'Maldives'], dtype=object)"
            ]
          },
          "metadata": {},
          "execution_count": 15
        }
      ]
    },
    {
      "cell_type": "code",
      "source": [
        "Europe = ['Ukraine', 'Malta', 'Sweden', 'Finland', 'United Kingdom', 'Moldova', 'Serbia', 'France', 'Albania', \n",
        "          'Lithuania', 'North Macedonia', 'Germany', 'Spain', 'Belgium', 'Iceland', 'Ireland', 'Bulgaria', \n",
        "          'Norway', 'Bosnia and Herzegovina', 'Romania', 'Czechia', 'Italy', 'Slovakia', 'Hungary', 'Croatia', \n",
        "          'Estonia', 'Poland', 'Montenegro', 'Luxembourg', 'Argentina', 'Greece', 'Netherlands', 'Portugal', \n",
        "          'Belarus', 'Austria', 'Switzerland', 'Latvia', 'Denmark', 'Kosovo', 'Slovenia', ]\n",
        "North_America = ['Honduras', 'Canada', 'United States', 'Costa Rica', 'Nicaragua', 'Dominican Republic', 'Mexico', \n",
        "                 'Guatemala', 'Haiti', 'Panama', 'El Salvador', 'Jamaica', 'Belize', 'Cuba', ]\n",
        "South_America = ['Chile', 'Bolivia', 'Uruguay', 'Peru', 'Venezuela', 'Suriname', 'Paraguay', 'Colombia', 'Ecuador', \n",
        "                 'Brazil', 'Trinidad and Tobago', 'Guyana', ]\n",
        "Africa = ['South Africa', 'Tanzania', 'Chad', 'Afghanistan', 'Zambia', 'Guinea', 'Liberia', 'Togo', 'Mozambique', \n",
        "          'Kenya', 'Mauritania', 'Ivory Coast', 'Sierra Leone', 'Somalia', 'Ghana', 'Morocco', 'Cameroon', \n",
        "          'Madagascar', 'Tunisia', 'Mauritius', 'Comoros', 'Botswana', 'Nigeria', 'Congo (Brazzaville)', 'Namibia',\n",
        "          'Libya', 'Uganda', 'Burkina Faso', 'Ethiopia', 'Malawi', 'Lesotho', 'Senegal', 'Mali', 'Sudan', 'Zimbabwe', \n",
        "          'Rwanda', 'Benin', 'Djibouti', 'Gabon', 'Algeria', 'Burundi', 'Niger', 'South Sudan', 'Congo (Kinshasa)', \n",
        "          'Gambia', 'Somaliland region', 'Angola', 'Central African Republic', 'Eswatini', ]\n",
        "Asia = ['Bangladesh', 'Saudi Arabia', 'Singapore', 'Japan', 'Turkey', 'Israel', 'Philippines', 'Bahrain', \n",
        "        'Pakistan', 'Indonesia', 'Egypt', 'Lebanon', 'Mongolia', 'Kyrgyzstan', 'Myanmar', 'Sri Lanka', 'Georgia',\n",
        "        'United Arab Emirates', 'Azerbaijan', 'Cambodia', 'Laos', 'Malaysia', 'Yemen', 'Vietnam', 'Armenia',\n",
        "        'Palestinian Territories', 'South Korea', 'Russia', 'Jordan', 'China', 'Syria', 'Cyprus', 'India', \n",
        "        'Turkmenistan', 'Kazakhstan', 'Uzbekistan', 'Tajikistan', 'Thailand', 'Taiwan Province of China', 'Bhutan', \n",
        "        'Nepal', 'Iran', 'Qatar', 'Hong Kong S.A.R. of China', 'Kuwait', 'Iraq', 'North Cyprus', 'Oman', 'Maldives']\n",
        "Oceania = ['New Zealand', 'Australia', ]"
      ],
      "metadata": {
        "id": "KpkbiZnQWhsA"
      },
      "execution_count": null,
      "outputs": []
    },
    {
      "cell_type": "code",
      "source": [
        "data = []\n",
        "data.append(df[df['Country name'].isin(Europe)])\n",
        "data.append(df[df['Country name'].isin(North_America)])\n",
        "data.append(df[df['Country name'].isin(South_America)])\n",
        "data.append(df[df['Country name'].isin(Africa)])\n",
        "data.append(df[df['Country name'].isin(Asia)])\n",
        "data.append(df[df['Country name'].isin(Oceania)])"
      ],
      "metadata": {
        "id": "RXCLK4AFrfZJ"
      },
      "execution_count": null,
      "outputs": []
    },
    {
      "cell_type": "code",
      "source": [
        "data[0].head()"
      ],
      "metadata": {
        "colab": {
          "base_uri": "https://localhost:8080/",
          "height": 285
        },
        "id": "8nWyuhJtupDe",
        "outputId": "4088f515-d87e-4300-a936-6ec45e702a9e"
      },
      "execution_count": null,
      "outputs": [
        {
          "output_type": "execute_result",
          "data": {
            "text/plain": [
              "   Country name  year  Life Ladder  Log GDP per capita  Social support  \\\n",
              "2   Netherlands  2014     7.321188           10.862589        0.908996   \n",
              "5       Estonia  2017     5.938396           10.428864        0.935686   \n",
              "10       Greece  2020     5.787616           10.204878        0.778537   \n",
              "11      Austria  2014     6.950000           10.876781        0.898920   \n",
              "14      Finland  2014     7.384571           10.713902        0.952017   \n",
              "\n",
              "    Healthy life expectancy at birth  Freedom to make life choices  \\\n",
              "2                          71.059998                      0.910180   \n",
              "5                          68.750000                      0.861749   \n",
              "10                         71.025002                      0.564614   \n",
              "11                         70.300003                      0.885027   \n",
              "14                         70.480003                      0.933044   \n",
              "\n",
              "    Generosity  Perceptions of corruption  Positive affect  Negative affect  \\\n",
              "2     0.329016                   0.456948         0.775613         0.220657   \n",
              "5    -0.102851                   0.668402         0.740096         0.160164   \n",
              "10   -0.242127                   0.764325         0.629382         0.321684   \n",
              "11    0.115356                   0.566931         0.720965         0.170150   \n",
              "14   -0.003274                   0.265480         0.766498         0.198814   \n",
              "\n",
              "    Confidence in national government  \n",
              "2                            0.525242  \n",
              "5                            0.405946  \n",
              "10                           0.397470  \n",
              "11                           0.407695  \n",
              "14                           0.468559  "
            ],
            "text/html": [
              "\n",
              "  <div id=\"df-da8ab991-a885-470b-90a8-c51ad2fbae36\">\n",
              "    <div class=\"colab-df-container\">\n",
              "      <div>\n",
              "<style scoped>\n",
              "    .dataframe tbody tr th:only-of-type {\n",
              "        vertical-align: middle;\n",
              "    }\n",
              "\n",
              "    .dataframe tbody tr th {\n",
              "        vertical-align: top;\n",
              "    }\n",
              "\n",
              "    .dataframe thead th {\n",
              "        text-align: right;\n",
              "    }\n",
              "</style>\n",
              "<table border=\"1\" class=\"dataframe\">\n",
              "  <thead>\n",
              "    <tr style=\"text-align: right;\">\n",
              "      <th></th>\n",
              "      <th>Country name</th>\n",
              "      <th>year</th>\n",
              "      <th>Life Ladder</th>\n",
              "      <th>Log GDP per capita</th>\n",
              "      <th>Social support</th>\n",
              "      <th>Healthy life expectancy at birth</th>\n",
              "      <th>Freedom to make life choices</th>\n",
              "      <th>Generosity</th>\n",
              "      <th>Perceptions of corruption</th>\n",
              "      <th>Positive affect</th>\n",
              "      <th>Negative affect</th>\n",
              "      <th>Confidence in national government</th>\n",
              "    </tr>\n",
              "  </thead>\n",
              "  <tbody>\n",
              "    <tr>\n",
              "      <th>2</th>\n",
              "      <td>Netherlands</td>\n",
              "      <td>2014</td>\n",
              "      <td>7.321188</td>\n",
              "      <td>10.862589</td>\n",
              "      <td>0.908996</td>\n",
              "      <td>71.059998</td>\n",
              "      <td>0.910180</td>\n",
              "      <td>0.329016</td>\n",
              "      <td>0.456948</td>\n",
              "      <td>0.775613</td>\n",
              "      <td>0.220657</td>\n",
              "      <td>0.525242</td>\n",
              "    </tr>\n",
              "    <tr>\n",
              "      <th>5</th>\n",
              "      <td>Estonia</td>\n",
              "      <td>2017</td>\n",
              "      <td>5.938396</td>\n",
              "      <td>10.428864</td>\n",
              "      <td>0.935686</td>\n",
              "      <td>68.750000</td>\n",
              "      <td>0.861749</td>\n",
              "      <td>-0.102851</td>\n",
              "      <td>0.668402</td>\n",
              "      <td>0.740096</td>\n",
              "      <td>0.160164</td>\n",
              "      <td>0.405946</td>\n",
              "    </tr>\n",
              "    <tr>\n",
              "      <th>10</th>\n",
              "      <td>Greece</td>\n",
              "      <td>2020</td>\n",
              "      <td>5.787616</td>\n",
              "      <td>10.204878</td>\n",
              "      <td>0.778537</td>\n",
              "      <td>71.025002</td>\n",
              "      <td>0.564614</td>\n",
              "      <td>-0.242127</td>\n",
              "      <td>0.764325</td>\n",
              "      <td>0.629382</td>\n",
              "      <td>0.321684</td>\n",
              "      <td>0.397470</td>\n",
              "    </tr>\n",
              "    <tr>\n",
              "      <th>11</th>\n",
              "      <td>Austria</td>\n",
              "      <td>2014</td>\n",
              "      <td>6.950000</td>\n",
              "      <td>10.876781</td>\n",
              "      <td>0.898920</td>\n",
              "      <td>70.300003</td>\n",
              "      <td>0.885027</td>\n",
              "      <td>0.115356</td>\n",
              "      <td>0.566931</td>\n",
              "      <td>0.720965</td>\n",
              "      <td>0.170150</td>\n",
              "      <td>0.407695</td>\n",
              "    </tr>\n",
              "    <tr>\n",
              "      <th>14</th>\n",
              "      <td>Finland</td>\n",
              "      <td>2014</td>\n",
              "      <td>7.384571</td>\n",
              "      <td>10.713902</td>\n",
              "      <td>0.952017</td>\n",
              "      <td>70.480003</td>\n",
              "      <td>0.933044</td>\n",
              "      <td>-0.003274</td>\n",
              "      <td>0.265480</td>\n",
              "      <td>0.766498</td>\n",
              "      <td>0.198814</td>\n",
              "      <td>0.468559</td>\n",
              "    </tr>\n",
              "  </tbody>\n",
              "</table>\n",
              "</div>\n",
              "      <button class=\"colab-df-convert\" onclick=\"convertToInteractive('df-da8ab991-a885-470b-90a8-c51ad2fbae36')\"\n",
              "              title=\"Convert this dataframe to an interactive table.\"\n",
              "              style=\"display:none;\">\n",
              "        \n",
              "  <svg xmlns=\"http://www.w3.org/2000/svg\" height=\"24px\"viewBox=\"0 0 24 24\"\n",
              "       width=\"24px\">\n",
              "    <path d=\"M0 0h24v24H0V0z\" fill=\"none\"/>\n",
              "    <path d=\"M18.56 5.44l.94 2.06.94-2.06 2.06-.94-2.06-.94-.94-2.06-.94 2.06-2.06.94zm-11 1L8.5 8.5l.94-2.06 2.06-.94-2.06-.94L8.5 2.5l-.94 2.06-2.06.94zm10 10l.94 2.06.94-2.06 2.06-.94-2.06-.94-.94-2.06-.94 2.06-2.06.94z\"/><path d=\"M17.41 7.96l-1.37-1.37c-.4-.4-.92-.59-1.43-.59-.52 0-1.04.2-1.43.59L10.3 9.45l-7.72 7.72c-.78.78-.78 2.05 0 2.83L4 21.41c.39.39.9.59 1.41.59.51 0 1.02-.2 1.41-.59l7.78-7.78 2.81-2.81c.8-.78.8-2.07 0-2.86zM5.41 20L4 18.59l7.72-7.72 1.47 1.35L5.41 20z\"/>\n",
              "  </svg>\n",
              "      </button>\n",
              "      \n",
              "  <style>\n",
              "    .colab-df-container {\n",
              "      display:flex;\n",
              "      flex-wrap:wrap;\n",
              "      gap: 12px;\n",
              "    }\n",
              "\n",
              "    .colab-df-convert {\n",
              "      background-color: #E8F0FE;\n",
              "      border: none;\n",
              "      border-radius: 50%;\n",
              "      cursor: pointer;\n",
              "      display: none;\n",
              "      fill: #1967D2;\n",
              "      height: 32px;\n",
              "      padding: 0 0 0 0;\n",
              "      width: 32px;\n",
              "    }\n",
              "\n",
              "    .colab-df-convert:hover {\n",
              "      background-color: #E2EBFA;\n",
              "      box-shadow: 0px 1px 2px rgba(60, 64, 67, 0.3), 0px 1px 3px 1px rgba(60, 64, 67, 0.15);\n",
              "      fill: #174EA6;\n",
              "    }\n",
              "\n",
              "    [theme=dark] .colab-df-convert {\n",
              "      background-color: #3B4455;\n",
              "      fill: #D2E3FC;\n",
              "    }\n",
              "\n",
              "    [theme=dark] .colab-df-convert:hover {\n",
              "      background-color: #434B5C;\n",
              "      box-shadow: 0px 1px 3px 1px rgba(0, 0, 0, 0.15);\n",
              "      filter: drop-shadow(0px 1px 2px rgba(0, 0, 0, 0.3));\n",
              "      fill: #FFFFFF;\n",
              "    }\n",
              "  </style>\n",
              "\n",
              "      <script>\n",
              "        const buttonEl =\n",
              "          document.querySelector('#df-da8ab991-a885-470b-90a8-c51ad2fbae36 button.colab-df-convert');\n",
              "        buttonEl.style.display =\n",
              "          google.colab.kernel.accessAllowed ? 'block' : 'none';\n",
              "\n",
              "        async function convertToInteractive(key) {\n",
              "          const element = document.querySelector('#df-da8ab991-a885-470b-90a8-c51ad2fbae36');\n",
              "          const dataTable =\n",
              "            await google.colab.kernel.invokeFunction('convertToInteractive',\n",
              "                                                     [key], {});\n",
              "          if (!dataTable) return;\n",
              "\n",
              "          const docLinkHtml = 'Like what you see? Visit the ' +\n",
              "            '<a target=\"_blank\" href=https://colab.research.google.com/notebooks/data_table.ipynb>data table notebook</a>'\n",
              "            + ' to learn more about interactive tables.';\n",
              "          element.innerHTML = '';\n",
              "          dataTable['output_type'] = 'display_data';\n",
              "          await google.colab.output.renderOutput(dataTable, element);\n",
              "          const docLink = document.createElement('div');\n",
              "          docLink.innerHTML = docLinkHtml;\n",
              "          element.appendChild(docLink);\n",
              "        }\n",
              "      </script>\n",
              "    </div>\n",
              "  </div>\n",
              "  "
            ]
          },
          "metadata": {},
          "execution_count": 49
        }
      ]
    },
    {
      "cell_type": "code",
      "source": [
        "# Training: Linear regression, Transfer learn\n",
        "\n",
        "# parameters\n",
        "#Nt = 1253   # Number of training data\n",
        "#Nv = 418    # Number of validation data\n",
        "#d = 9       # Number of features\n",
        "#eta = 0.02  # learning rate\n",
        "epo = 200  # training epochs"
      ],
      "metadata": {
        "id": "3XUzgWbmsrJM"
      },
      "execution_count": null,
      "outputs": []
    },
    {
      "cell_type": "code",
      "source": [
        "# train\n",
        "train_loss = []\n",
        "weights = []\n",
        "\n",
        "for i, data_train in enumerate(data):\n",
        "  loss = []\n",
        "\n",
        "  data_train = data_train.iloc[:, 2:]\n",
        "  data_train = (data_train - data_train.mean()) / data_train.std()\n",
        "  N = len(data_train)\n",
        "\n",
        "  x = np.c_[np.ones((N, 1)), data_train.iloc[:, 1:].to_numpy()]\n",
        "  r = data_train.iloc[:, 0].to_numpy()[np.newaxis].T\n",
        "  weight = w # transfer\n",
        "\n",
        "  for epoch in range(epo):\n",
        "    #train\n",
        "    E = x.dot(weight) - r\n",
        "    grad = (2 / N) * x.T.dot(E)\n",
        "    weight = weight - (eta * grad)\n",
        "\n",
        "    E = x.dot(weight) - r\n",
        "    l = np.sum(np.power(E, 2)) / N\n",
        "    loss.append(l)\n",
        "\n",
        "  train_loss.append(loss)\n",
        "  weights.append(weight)"
      ],
      "metadata": {
        "id": "Wkfv8MsMs6di"
      },
      "execution_count": null,
      "outputs": []
    },
    {
      "cell_type": "code",
      "source": [
        "print(f'''Train loss(MSE):\n",
        "  Europe:\\t\\t{train_loss[0][-1]:.4}\n",
        "  North America:\\t{train_loss[1][-1]:.4}\n",
        "  South America:\\t{train_loss[2][-1]:.4}\n",
        "  Africa:\\t\\t{train_loss[3][-1]:.4}\n",
        "  Asia:\\t\\t\\t{train_loss[4][-1]:.4}\n",
        "  Oceania:\\t\\t{train_loss[5][-1]:.4}\n",
        "  ''')"
      ],
      "metadata": {
        "colab": {
          "base_uri": "https://localhost:8080/"
        },
        "id": "hylwk67f_EtS",
        "outputId": "6a1ff27c-077b-483f-e6f0-2e57a815a2b4"
      },
      "execution_count": null,
      "outputs": [
        {
          "output_type": "stream",
          "name": "stdout",
          "text": [
            "Train loss(MSE):\n",
            "  Europe:\t\t0.1695\n",
            "  North America:\t0.2343\n",
            "  South America:\t0.4924\n",
            "  Africa:\t\t0.6783\n",
            "  Asia:\t\t\t0.3714\n",
            "  Oceania:\t\t0.477\n",
            "  \n"
          ]
        }
      ]
    },
    {
      "cell_type": "code",
      "source": [
        "plt.title('Loss: MSE')\n",
        "plt.plot(train_loss[0], label='EU')\n",
        "plt.plot(train_loss[1], label='NA')\n",
        "plt.plot(train_loss[2], label='SA')\n",
        "plt.plot(train_loss[3], label='AF')\n",
        "plt.plot(train_loss[4], label='AS')\n",
        "plt.plot(train_loss[5], label='OC')\n",
        "\n",
        "plt.legend()\n",
        "plt.show()"
      ],
      "metadata": {
        "colab": {
          "base_uri": "https://localhost:8080/",
          "height": 281
        },
        "id": "JXz1tAvdvL_K",
        "outputId": "b9134537-c4a4-467f-e933-81a37809a9e5"
      },
      "execution_count": null,
      "outputs": [
        {
          "output_type": "display_data",
          "data": {
            "text/plain": [
              "<Figure size 432x288 with 1 Axes>"
            ],
            "image/png": "[encoded data removed]"
          },
          "metadata": {
            "needs_background": "light"
          }
        }
      ]
    },
    {
      "cell_type": "code",
      "source": [
        "plt.figure(figsize=(12, 10))\n",
        "\n",
        "plt.plot([f'w{i}' for i in range(10)], weights[0], 'bo', label='EU')\n",
        "plt.plot([f'w{i}' for i in range(10)], weights[1], 'rx', label='NA')\n",
        "plt.plot([f'w{i}' for i in range(10)], weights[2], 'g.', label='SA')\n",
        "plt.plot([f'w{i}' for i in range(10)], weights[3], 'cD', label='AF')\n",
        "plt.plot([f'w{i}' for i in range(10)], weights[4], 'mv', label='AS')\n",
        "plt.plot([f'w{i}' for i in range(10)], weights[5], 'kp', label='OC')\n",
        "\n",
        "plt.axhline(0, linestyle='--', linewidth=1, c='red')\n",
        "plt.grid()\n",
        "plt.legend()\n",
        "\n",
        "plt.show()"
      ],
      "metadata": {
        "colab": {
          "base_uri": "https://localhost:8080/",
          "height": 592
        },
        "id": "wTlXEAwGAlbC",
        "outputId": "460d2f11-d98b-45e0-8cb4-93995bfdb5b6"
      },
      "execution_count": null,
      "outputs": [
        {
          "output_type": "display_data",
          "data": {
            "text/plain": [
              "<Figure size 864x720 with 1 Axes>"
            ],
            "image/png": "[encoded data removed]"
          },
          "metadata": {
            "needs_background": "light"
          }
        }
      ]
    },
    {
      "cell_type": "code",
      "source": [
        "df.columns"
      ],
      "metadata": {
        "colab": {
          "base_uri": "https://localhost:8080/"
        },
        "id": "iq8x-458DeeL",
        "outputId": "b16c5e14-9eb0-4c93-c643-1a64c77a68b6"
      },
      "execution_count": null,
      "outputs": [
        {
          "output_type": "execute_result",
          "data": {
            "text/plain": [
              "Index(['Country name', 'year', 'Life Ladder', 'Log GDP per capita',\n",
              "       'Social support', 'Healthy life expectancy at birth',\n",
              "       'Freedom to make life choices', 'Generosity',\n",
              "       'Perceptions of corruption', 'Positive affect', 'Negative affect',\n",
              "       'Confidence in national government'],\n",
              "      dtype='object')"
            ]
          },
          "metadata": {},
          "execution_count": 77
        }
      ]
    }
  ]
}