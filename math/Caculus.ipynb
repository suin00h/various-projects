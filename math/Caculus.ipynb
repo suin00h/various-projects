{
 "cells": [
  {
   "cell_type": "markdown",
   "id": "5f766b18",
   "metadata": {},
   "source": [
    "## Regression: quadratic basis function\n",
    "from 1.2 Example 4"
   ]
  },
  {
   "cell_type": "code",
   "execution_count": 1,
   "id": "79ba8b39",
   "metadata": {},
   "outputs": [],
   "source": [
    "# y = w_2 * x^2 + w_1 * x + w_0\n",
    "# x_2 = x^2, x_1 = x, x_0 = 1"
   ]
  },
  {
   "cell_type": "code",
   "execution_count": 3,
   "id": "1857cf4a",
   "metadata": {},
   "outputs": [],
   "source": [
    "import numpy as np\n",
    "import matplotlib.pyplot as plt"
   ]
  },
  {
   "cell_type": "code",
   "execution_count": 139,
   "id": "01faa206",
   "metadata": {},
   "outputs": [],
   "source": [
    "x = np.array([[i for i in range(10)]]).T\n",
    "Y = np.array([[450, 445, 431, 408, 375, 332, 279, 216, 143, 61]]).T"
   ]
  },
  {
   "cell_type": "code",
   "execution_count": 44,
   "id": "15565226",
   "metadata": {},
   "outputs": [
    {
     "data": {
      "text/plain": [
       "[<matplotlib.lines.Line2D at 0x254203f7c70>]"
      ]
     },
     "execution_count": 44,
     "metadata": {},
     "output_type": "execute_result"
    },
    {
     "data": {
      "image/png": "[encoded data removed]",
      "text/plain": [
       "<Figure size 640x480 with 1 Axes>"
      ]
     },
     "metadata": {},
     "output_type": "display_data"
    }
   ],
   "source": [
    "plt.plot(x, Y, 'bo')"
   ]
  },
  {
   "cell_type": "code",
   "execution_count": 143,
   "id": "c3a318f7",
   "metadata": {},
   "outputs": [],
   "source": [
    "W = np.array([[-1, 1, 1]]).T\n",
    "X = np.c_[np.power(x, 2), x, np.ones((10, 1))]"
   ]
  },
  {
   "cell_type": "code",
   "execution_count": 144,
   "id": "c6f7fb03",
   "metadata": {},
   "outputs": [],
   "source": [
    "epo = 50000\n",
    "eta = 0.0005\n",
    "train_loss = []\n",
    "\n",
    "for epoch in range(epo):\n",
    "    E = X.dot(W) - Y\n",
    "    grad = (2 / 10) * X.T.dot(E)\n",
    "    W = W - (eta * grad)\n",
    "    \n",
    "    loss = np.sum(np.power(E, 2)) / 10\n",
    "    train_loss.append(loss)"
   ]
  },
  {
   "cell_type": "code",
   "execution_count": 145,
   "id": "e1159cd9",
   "metadata": {
    "scrolled": false
   },
   "outputs": [
    {
     "data": {
      "text/plain": [
       "[<matplotlib.lines.Line2D at 0x25427430280>]"
      ]
     },
     "execution_count": 145,
     "metadata": {},
     "output_type": "execute_result"
    },
    {
     "data": {
      "image/png": "[encoded data removed]",
      "text/plain": [
       "<Figure size 640x480 with 1 Axes>"
      ]
     },
     "metadata": {},
     "output_type": "display_data"
    }
   ],
   "source": [
    "plt.plot(x, X.dot(W), 'bo')\n",
    "plt.plot(x, Y, 'rx')"
   ]
  },
  {
   "cell_type": "code",
   "execution_count": 112,
   "id": "ab0e3835",
   "metadata": {
    "scrolled": false
   },
   "outputs": [],
   "source": [
    "import torch\n",
    "import torch.nn as nn\n",
    "import torch.optim as optim"
   ]
  },
  {
   "cell_type": "code",
   "execution_count": 118,
   "id": "0034225b",
   "metadata": {},
   "outputs": [],
   "source": [
    "class net(nn.Module):\n",
    "    def __init__(self):\n",
    "        super(net, self).__init__()\n",
    "        \n",
    "        self.fc = nn.Linear(3, 1)\n",
    "    \n",
    "    def forward(self, x):\n",
    "        x = self.fc(x)\n",
    "        return x"
   ]
  },
  {
   "cell_type": "code",
   "execution_count": 148,
   "id": "f1331185",
   "metadata": {},
   "outputs": [],
   "source": [
    "netw = net()\n",
    "crit = nn.MSELoss()\n",
    "opt = optim.SGD(netw.parameters(), lr=0.0005)"
   ]
  },
  {
   "cell_type": "code",
   "execution_count": 125,
   "id": "a5d7041f",
   "metadata": {},
   "outputs": [
    {
     "name": "stdout",
     "output_type": "stream",
     "text": [
      "tensor([[ 0.,  0.,  1.],\n",
      "        [ 1.,  1.,  1.],\n",
      "        [ 4.,  2.,  1.],\n",
      "        [ 9.,  3.,  1.],\n",
      "        [16.,  4.,  1.],\n",
      "        [25.,  5.,  1.],\n",
      "        [36.,  6.,  1.],\n",
      "        [49.,  7.,  1.],\n",
      "        [64.,  8.,  1.],\n",
      "        [81.,  9.,  1.]]) tensor([[450.],\n",
      "        [445.],\n",
      "        [431.],\n",
      "        [408.],\n",
      "        [375.],\n",
      "        [332.],\n",
      "        [279.],\n",
      "        [216.],\n",
      "        [143.],\n",
      "        [ 61.]])\n"
     ]
    }
   ],
   "source": [
    "inp = torch.Tensor(X)\n",
    "out = torch.Tensor(Y)\n",
    "print(inp, out)"
   ]
  },
  {
   "cell_type": "code",
   "execution_count": 150,
   "id": "2004c042",
   "metadata": {
    "scrolled": true
   },
   "outputs": [
    {
     "name": "stdout",
     "output_type": "stream",
     "text": [
      "0\n",
      "1000\n",
      "2000\n",
      "3000\n",
      "4000\n",
      "5000\n",
      "6000\n",
      "7000\n",
      "8000\n",
      "9000\n",
      "10000\n",
      "11000\n",
      "12000\n",
      "13000\n",
      "14000\n",
      "15000\n",
      "16000\n",
      "17000\n",
      "18000\n",
      "19000\n",
      "20000\n",
      "21000\n",
      "22000\n",
      "23000\n",
      "24000\n",
      "25000\n",
      "26000\n",
      "27000\n",
      "28000\n",
      "29000\n",
      "30000\n",
      "31000\n",
      "32000\n",
      "33000\n",
      "34000\n",
      "35000\n",
      "36000\n",
      "37000\n",
      "38000\n",
      "39000\n",
      "40000\n",
      "41000\n",
      "42000\n",
      "43000\n",
      "44000\n",
      "45000\n",
      "46000\n",
      "47000\n",
      "48000\n",
      "49000\n",
      "50000\n",
      "51000\n",
      "52000\n",
      "53000\n",
      "54000\n",
      "55000\n",
      "56000\n",
      "57000\n",
      "58000\n",
      "59000\n",
      "60000\n",
      "61000\n",
      "62000\n",
      "63000\n",
      "64000\n",
      "65000\n",
      "66000\n",
      "67000\n",
      "68000\n",
      "69000\n",
      "70000\n",
      "71000\n",
      "72000\n",
      "73000\n",
      "74000\n",
      "75000\n",
      "76000\n",
      "77000\n",
      "78000\n",
      "79000\n",
      "80000\n",
      "81000\n",
      "82000\n",
      "83000\n",
      "84000\n",
      "85000\n",
      "86000\n",
      "87000\n",
      "88000\n",
      "89000\n",
      "90000\n",
      "91000\n",
      "92000\n",
      "93000\n",
      "94000\n",
      "95000\n",
      "96000\n",
      "97000\n",
      "98000\n",
      "99000\n"
     ]
    }
   ],
   "source": [
    "for i in range(100000):\n",
    "    netw.zero_grad()\n",
    "    output = netw(inp)\n",
    "    loss = crit(output, out)\n",
    "    loss.backward()\n",
    "    opt.step()\n",
    "    if i % 1000 == 0:\n",
    "        print(i)"
   ]
  },
  {
   "cell_type": "code",
   "execution_count": 151,
   "id": "bf49ed51",
   "metadata": {},
   "outputs": [
    {
     "name": "stdout",
     "output_type": "stream",
     "text": [
      "Parameter containing:\n",
      "tensor([[ -4.9033,   0.9819, 224.7991]], requires_grad=True)\n",
      "Parameter containing:\n",
      "tensor([224.5173], requires_grad=True)\n"
     ]
    }
   ],
   "source": [
    "for param in netw.parameters():\n",
    "    print(param)"
   ]
  },
  {
   "cell_type": "code",
   "execution_count": 152,
   "id": "77cebcb6",
   "metadata": {},
   "outputs": [
    {
     "data": {
      "text/plain": [
       "[<matplotlib.lines.Line2D at 0x25427b2b160>]"
      ]
     },
     "execution_count": 152,
     "metadata": {},
     "output_type": "execute_result"
    },
    {
     "data": {
      "image/png": "[encoded data removed]",
      "text/plain": [
       "<Figure size 640x480 with 1 Axes>"
      ]
     },
     "metadata": {},
     "output_type": "display_data"
    }
   ],
   "source": [
    "ww = [-4.9033,   0.9819, 224.7991]\n",
    "plt.plot(x, X.dot(ww), 'bo')\n",
    "plt.plot(x, Y, 'rx')"
   ]
  }
 ],
 "metadata": {
  "kernelspec": {
   "display_name": "pytorch",
   "language": "python",
   "name": "pytorch"
  },
  "language_info": {
   "codemirror_mode": {
    "name": "ipython",
    "version": 3
   },
   "file_extension": ".py",
   "mimetype": "text/x-python",
   "name": "python",
   "nbconvert_exporter": "python",
   "pygments_lexer": "ipython3",
   "version": "3.10.8"
  }
 },
 "nbformat": 4,
 "nbformat_minor": 5
}
